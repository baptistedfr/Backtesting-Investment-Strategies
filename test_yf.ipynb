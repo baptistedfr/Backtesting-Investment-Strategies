{
 "cells": [
  {
   "cell_type": "code",
   "execution_count": 1,
   "metadata": {},
   "outputs": [
    {
     "name": "stdout",
     "output_type": "stream",
     "text": [
      "                                  Open         High          Low        Close  \\\n",
      "Date                                                                            \n",
      "2024-10-21 00:00:00-04:00  5857.819824  5866.919922  5824.790039  5846.950195   \n",
      "\n",
      "                              Volume  Dividends  Stock Splits  \n",
      "Date                                                           \n",
      "2024-10-21 00:00:00-04:00  949959955        0.0           0.0  \n"
     ]
    }
   ],
   "source": [
    "import yfinance as yf\n",
    "\n",
    "# Télécharge les composants de l'indice S&P 500 (ou un autre indice)\n",
    "ticker = \"^GSPC\"  # Le ticker du S&P 500\n",
    "index_data = yf.Ticker(ticker)\n",
    "\n",
    "# Récupère les composants (cette méthode ne fonctionne pas pour tous les indices)\n",
    "components = index_data.history(period=\"1d\")\n",
    "print(components)"
   ]
  },
  {
   "cell_type": "code",
   "execution_count": 7,
   "metadata": {},
   "outputs": [
    {
     "name": "stderr",
     "output_type": "stream",
     "text": [
      "[*********************100%***********************]  1 of 1 completed"
     ]
    },
    {
     "name": "stdout",
     "output_type": "stream",
     "text": [
      "Price                        Adj Close        Close         High          Low  \\\n",
      "Ticker                           ^GSPC        ^GSPC        ^GSPC        ^GSPC   \n",
      "Date                                                                            \n",
      "2015-01-02 00:00:00+00:00  2058.199951  2058.199951  2072.360107  2046.040039   \n",
      "2015-01-05 00:00:00+00:00  2020.579956  2020.579956  2054.439941  2017.339966   \n",
      "2015-01-06 00:00:00+00:00  2002.609985  2002.609985  2030.250000  1992.439941   \n",
      "2015-01-07 00:00:00+00:00  2025.900024  2025.900024  2029.609985  2005.550049   \n",
      "2015-01-08 00:00:00+00:00  2062.139893  2062.139893  2064.080078  2030.609985   \n",
      "\n",
      "Price                             Open      Volume  \n",
      "Ticker                           ^GSPC       ^GSPC  \n",
      "Date                                                \n",
      "2015-01-02 00:00:00+00:00  2058.899902  2708700000  \n",
      "2015-01-05 00:00:00+00:00  2054.439941  3799120000  \n",
      "2015-01-06 00:00:00+00:00  2022.150024  4460110000  \n",
      "2015-01-07 00:00:00+00:00  2005.550049  3805480000  \n",
      "2015-01-08 00:00:00+00:00  2030.609985  3934010000  \n"
     ]
    },
    {
     "name": "stderr",
     "output_type": "stream",
     "text": [
      "\n"
     ]
    }
   ],
   "source": [
    "aapl_data = yf.download('^GSPC', start='2015-01-01', end='2019-12-31', interval='1d')\n",
    "\n",
    "# Afficher les 5 premières lignes du DataFrame pour vérifier\n",
    "print(aapl_data.head())"
   ]
  }
 ],
 "metadata": {
  "kernelspec": {
   "display_name": "env",
   "language": "python",
   "name": "python3"
  },
  "language_info": {
   "codemirror_mode": {
    "name": "ipython",
    "version": 3
   },
   "file_extension": ".py",
   "mimetype": "text/x-python",
   "name": "python",
   "nbconvert_exporter": "python",
   "pygments_lexer": "ipython3",
   "version": "3.12.3"
  }
 },
 "nbformat": 4,
 "nbformat_minor": 2
}
